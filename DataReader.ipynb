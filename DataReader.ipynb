{
 "cells": [
  {
   "cell_type": "code",
   "execution_count": 3,
   "metadata": {},
   "outputs": [],
   "source": [
    "class RawFileName:\n",
    "    def __init__(self):\n",
    "        self.fs = 200   # for consistent sampling frequency\n",
    "        self.accFile_R = 'acc_readings_R.csv'\n",
    "        self.gyroFile_R = 'gyro_readings_R.csv'\n",
    "        self.timeSync_R = 'time_sync_R.csv'\n",
    "        self.accFile_L = 'acc_readings_L.csv'\n",
    "        self.gyroFile_L = 'gyro_readings_L.csv'\n",
    "        self.timeSync_L = 'time_sync_L.csv'\n",
    "        self.inputFile = 'char_input_events.csv'\n",
    "        "
   ]
  },
  {
   "cell_type": "code",
   "execution_count": 1,
   "metadata": {
    "collapsed": true
   },
   "outputs": [
    {
     "name": "stdout",
     "output_type": "stream",
     "text": [
      "hello\n"
     ]
    }
   ],
   "source": [
    "print('hello')"
   ]
  },
  {
   "cell_type": "code",
   "execution_count": null,
   "metadata": {},
   "outputs": [],
   "source": [
    "def readSensorFile(filepath)"
   ]
  }
 ],
 "metadata": {
  "kernelspec": {
   "display_name": "Python 2",
   "language": "python",
   "name": "python2"
  },
  "language_info": {
   "codemirror_mode": {
    "name": "ipython",
    "version": 2
   },
   "file_extension": ".py",
   "mimetype": "text/x-python",
   "name": "python",
   "nbconvert_exporter": "python",
   "pygments_lexer": "ipython2",
   "version": "2.7.6"
  }
 },
 "nbformat": 4,
 "nbformat_minor": 0
}
