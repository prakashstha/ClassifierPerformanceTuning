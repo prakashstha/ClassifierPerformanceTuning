{
 "cells": [
  {
   "cell_type": "code",
   "execution_count": 39,
   "metadata": {},
   "outputs": [
    {
     "ename": "ModuleNotFoundError",
     "evalue": "No module named 'imblearn'",
     "output_type": "error",
     "traceback": [
      "\u001b[0;31m---------------------------------------------------------------------------\u001b[0m",
      "\u001b[0;31mModuleNotFoundError\u001b[0m                       Traceback (most recent call last)",
      "\u001b[0;32m<ipython-input-39-ef13a8b76c55>\u001b[0m in \u001b[0;36m<module>\u001b[0;34m\u001b[0m\n\u001b[1;32m      1\u001b[0m \u001b[0;32mimport\u001b[0m \u001b[0mpandas\u001b[0m \u001b[0;32mas\u001b[0m \u001b[0mpd\u001b[0m\u001b[0;34m\u001b[0m\u001b[0;34m\u001b[0m\u001b[0m\n\u001b[1;32m      2\u001b[0m \u001b[0;32mfrom\u001b[0m \u001b[0msklearn\u001b[0m\u001b[0;34m.\u001b[0m\u001b[0mpreprocessing\u001b[0m \u001b[0;32mimport\u001b[0m \u001b[0mStandardScaler\u001b[0m\u001b[0;34m\u001b[0m\u001b[0;34m\u001b[0m\u001b[0m\n\u001b[0;32m----> 3\u001b[0;31m \u001b[0;32mfrom\u001b[0m \u001b[0mimblearn\u001b[0m\u001b[0;34m.\u001b[0m\u001b[0mover_sampling\u001b[0m \u001b[0;32mimport\u001b[0m \u001b[0mSMOTE\u001b[0m\u001b[0;34m\u001b[0m\u001b[0;34m\u001b[0m\u001b[0m\n\u001b[0m\u001b[1;32m      4\u001b[0m \u001b[0;32mfrom\u001b[0m \u001b[0msklearn\u001b[0m\u001b[0;34m.\u001b[0m\u001b[0mdecomposition\u001b[0m \u001b[0;32mimport\u001b[0m \u001b[0mPCA\u001b[0m\u001b[0;34m\u001b[0m\u001b[0;34m\u001b[0m\u001b[0m\n\u001b[1;32m      5\u001b[0m \u001b[0;32mfrom\u001b[0m \u001b[0mcollections\u001b[0m \u001b[0;32mimport\u001b[0m \u001b[0mCounter\u001b[0m\u001b[0;34m\u001b[0m\u001b[0;34m\u001b[0m\u001b[0m\n",
      "\u001b[0;31mModuleNotFoundError\u001b[0m: No module named 'imblearn'"
     ]
    }
   ],
   "source": [
    "import pandas as pd \n",
    "from sklearn.preprocessing import StandardScaler\n",
    "from imblearn.over_sampling import SMOTE\n",
    "from sklearn.decomposition import PCA\n",
    "from collections import Counter\n",
    "from sklearn.model_selection import train_test_split\n",
    "import matplotlib.pyplot as plt"
   ]
  },
  {
   "cell_type": "code",
   "execution_count": 32,
   "metadata": {},
   "outputs": [],
   "source": [
    "'''\n",
    "Read features extracted from motion data.\n",
    "'''\n",
    "def prepareFeatures(dirpath):\n",
    "    features = pd.DataFrame() #creates a new dataframe that's empty\n",
    "\n",
    "    i = 0\n",
    "    list_of_files = os.listdir(dirpath)\n",
    "    \n",
    "    for entry in list_of_files:\n",
    "        if entry == 'wordLen.csv':\n",
    "            continue\n",
    "        filepath = rootpath + entry\n",
    "#         print(filepath)\n",
    "\n",
    "        temp_df = pd.read_csv(filepath) \n",
    "#         print(temp_df.shape)\n",
    "        features = features.append(temp_df, ignore_index = True)\n",
    "\n",
    "    return features\n",
    "\n",
    "#     # Read data from '*.csv' file \n",
    "#     df = pd.read_csv(filepath) \n",
    "#     return df\n",
    "#     column_list = df.columns.values\n",
    "\n",
    "\n",
    "#     lbls = df['labels']\n",
    "\n",
    "#     column_list = column_list[:-1]\n",
    "\n",
    "#     feature_vector = df[column_list]\n",
    "    \n",
    "#     return feature_vector, lbls\n"
   ]
  },
  {
   "cell_type": "code",
   "execution_count": 33,
   "metadata": {},
   "outputs": [],
   "source": [
    "'''\n",
    "Read a file for word length information.\n",
    "'''\n",
    "def readWordLenFile(filepaht):\n",
    "    wordLenDict = {}\n",
    "    with open(wordLenFilePath) as fp:\n",
    "        line = fp.readline()\n",
    "        cnt = 1\n",
    "        while line:\n",
    "            line = line.strip()\n",
    "            idx = line.find(',')\n",
    "            user_no = line[:idx]\n",
    "            wordLen = line[idx+1:].strip()\n",
    "\n",
    "            wordLenDict[user_no] = wordLen\n",
    "            line = fp.readline()\n",
    "            cnt += 1\n",
    "    \n",
    "    return wordLenDict"
   ]
  },
  {
   "cell_type": "code",
   "execution_count": 38,
   "metadata": {},
   "outputs": [
    {
     "name": "stdout",
     "output_type": "stream",
     "text": [
      "(15262, 288)\n",
      "<class 'numpy.ndarray'>\n",
      "<class 'numpy.ndarray'>\n"
     ]
    }
   ],
   "source": [
    "import os\n",
    "rootpath = '../../DATASET/keyboard/two-watch/features/'\n",
    "filepath = rootpath + '1.csv'\n",
    "wordLenFilePath = '/Volumes/SSD HD/Browser-DataIntegrity/DATASET/keyboard/two-watch/features/wordLen.csv'\n",
    "\n",
    "\n",
    "df_features = prepareFeatures(rootpath)\n",
    "print(features.shape)\n",
    "\n",
    "column_list = df_features.columns.values\n",
    "y = df_features.labels.values\n",
    "column_list = column_list[:-1]\n",
    "x_raw = df_features[column_list].values\n",
    "print(type(y))\n",
    "print(type(x_raw))\n",
    "\n",
    "# ===============================\n",
    "# read word lenght file.\n",
    "# wordLenDict = readWordLenFile(wordLenFilePath)\n",
    "\n",
    "# for k in wordLenDict:\n",
    "#     print(f'{k}:{wordLenDict.get(k)}')\n",
    "# ==================================\n",
    "# read feature file.\n",
    "# feature_vector, lbls = readFeatureFile(filepath)\n",
    "\n",
    "# filepath = rootpath + '2.csv'\n",
    "# feature_vector1, lbls1 = readFeatureFile(filepath)\n",
    "\n",
    "# print(feature_vector.shape)\n",
    "# print(feature_vector1.shape)\n",
    "# frames = [feature_vector, feature_vector1]\n",
    "# df = pd.concat(frames)\n",
    "# print(df.shape)\n"
   ]
  },
  {
   "cell_type": "code",
   "execution_count": 36,
   "metadata": {},
   "outputs": [
    {
     "name": "stdout",
     "output_type": "stream",
     "text": [
      "(15262,)\n"
     ]
    }
   ],
   "source": [
    "print(lbls.shape)"
   ]
  },
  {
   "cell_type": "code",
   "execution_count": null,
   "metadata": {},
   "outputs": [],
   "source": [
    "columnHeads = list(df.columns.values)\n",
    "featureHeads = list(df.columns.values[1:64])\n",
    "clsHeads = list(df.columns.values[64:])\n",
    "X_raw = df.loc[:, columnHeads]\n",
    "y = df.cls_gender.values\n",
    "# For binary classification [0, 1], replace class '2' with 0.\n",
    "y[y == 2] = 0"
   ]
  },
  {
   "cell_type": "code",
   "execution_count": null,
   "metadata": {},
   "outputs": [],
   "source": []
  }
 ],
 "metadata": {
  "kernelspec": {
   "display_name": "Python 3",
   "language": "python",
   "name": "python3"
  },
  "language_info": {
   "codemirror_mode": {
    "name": "ipython",
    "version": 3
   },
   "file_extension": ".py",
   "mimetype": "text/x-python",
   "name": "python",
   "nbconvert_exporter": "python",
   "pygments_lexer": "ipython3",
   "version": "3.7.4"
  }
 },
 "nbformat": 4,
 "nbformat_minor": 2
}
